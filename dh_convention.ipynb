{
 "cells": [
  {
   "cell_type": "code",
   "execution_count": 1,
   "metadata": {},
   "outputs": [],
   "source": [
    "import numpy as np\n",
    "import math as m"
   ]
  },
  {
   "cell_type": "code",
   "execution_count": 2,
   "metadata": {},
   "outputs": [],
   "source": [
    "def getDHdict(theta, d, alpha, a):\n",
    "   DH_dict = {\n",
    "      'theta': theta,\n",
    "      'd': d,\n",
    "      'alpha': alpha,\n",
    "      'a': a\n",
    "   }\n",
    "   return DH_dict\n",
    "\n",
    "class DHParameters:\n",
    "   def __init__(self, DH_dict):\n",
    "      self.theta = DH_dict['theta']\n",
    "      self.d = DH_dict['d']\n",
    "      self.alpha = DH_dict['alpha']\n",
    "      self.a = DH_dict['a']\n",
    "      self.T = np.array([[m.cos(self.theta), -m.sin(self.theta)*m.cos(self.alpha), m.sin(self.theta)*m.sin(self.alpha), self.a*m.cos(self.theta)],\n",
    "                        [m.sin(self.theta), m.cos(self.theta)*m.cos(self.alpha), -m.cos(self.theta)*m.sin(self.alpha), self.a*m.sin(self.theta)],\n",
    "                        [0, m.sin(self.alpha), m.cos(self.alpha), self.d],\n",
    "                        [0, 0, 0, 1]])"
   ]
  },
  {
   "cell_type": "code",
   "execution_count": 22,
   "metadata": {},
   "outputs": [],
   "source": [
    "def getTransformationMatrix(dh_dict):\n",
    "   T = np.zeros([4,4])\n",
    "   theta = dh_dict['theta']\n",
    "   d = dh_dict['d']\n",
    "   alpha = dh_dict['alpha']\n",
    "   a = dh_dict['a']\n",
    "   \n",
    "   T[0,0] = m.cos(theta)\n",
    "   T[0,1] = -m.sin(theta) * m.cos(alpha)\n",
    "   T[0,2] = m.sin(theta) * m.sin(alpha)\n",
    "   T[0,3] = a * m.cos(theta)\n",
    "   \n",
    "   T[1,0] = m.sin(theta)\n",
    "   T[1,1] = m.cos(theta) * m.cos(alpha)\n",
    "   T[1,2] = -m.cos(theta) * m.sin(alpha)\n",
    "   T[1,3] = a * m.sin(theta)\n",
    "   \n",
    "   T[2,0] = 0\n",
    "   T[2,1] = m.sin(alpha)\n",
    "   T[2,2] = m.cos(alpha)\n",
    "   T[2,3] = d\n",
    "   \n",
    "   T[3,3] = 1\n",
    "   return T"
   ]
  },
  {
   "cell_type": "code",
   "execution_count": 46,
   "metadata": {},
   "outputs": [
    {
     "data": {
      "text/plain": [
       "array([[-0.99608784, -0.08836869,  0.        , -7.11724896],\n",
       "       [ 0.08836869, -0.99608784,  0.        , -0.31263073],\n",
       "       [ 0.        ,  0.        ,  1.        ,  0.        ],\n",
       "       [ 0.        ,  0.        ,  0.        ,  1.        ]])"
      ]
     },
     "execution_count": 46,
     "metadata": {},
     "output_type": "execute_result"
    }
   ],
   "source": [
    "theta_list = [45,60,30]\n",
    "d_list = [0,0,0]\n",
    "alpha_list = [0,0,0]\n",
    "a_list = [10,10,10]\n",
    "\n",
    "Matrix_list = []\n",
    "T_all = np.identity(4)\n",
    "for theta, d, alpha, a in zip(theta_list, d_list, alpha_list, a_list):\n",
    "   dh = getDHdict(theta=theta,d=d,alpha=alpha,a=a)\n",
    "   M = getTransformationMatrix(dh)\n",
    "   Matrix_list.append(M)\n",
    "   T_all = T_all @ M\n",
    "T_all"
   ]
  }
 ],
 "metadata": {
  "interpreter": {
   "hash": "97ae724bfa85b9b34df7982b8bb8c7216f435b92902d749e4263f71162bea840"
  },
  "kernelspec": {
   "display_name": "Python 3.8.8 ('base')",
   "language": "python",
   "name": "python3"
  },
  "language_info": {
   "codemirror_mode": {
    "name": "ipython",
    "version": 3
   },
   "file_extension": ".py",
   "mimetype": "text/x-python",
   "name": "python",
   "nbconvert_exporter": "python",
   "pygments_lexer": "ipython3",
   "version": "3.8.8"
  },
  "orig_nbformat": 4
 },
 "nbformat": 4,
 "nbformat_minor": 2
}
