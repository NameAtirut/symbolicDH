{
  "cells": [
    {
      "cell_type": "markdown",
      "metadata": {},
      "source": [
        "## Definitions"
      ]
    },
    {
      "cell_type": "code",
      "execution_count": 4,
      "metadata": {
        "id": "B5q1njCgTxpm"
      },
      "outputs": [],
      "source": [
        "import numpy as np\n",
        "from sympy import *\n",
        "# from modules import getDHdict\n",
        "import math as m\n",
        "\n",
        "def getDHdict(theta, d, alpha, a):\n",
        "   return {\n",
        "      'theta': theta,\n",
        "      'd': d,\n",
        "      'alpha': alpha,\n",
        "      'a': a\n",
        "   }"
      ]
    },
    {
      "cell_type": "code",
      "execution_count": 5,
      "metadata": {
        "id": "pGu_Nn0bTxpn"
      },
      "outputs": [],
      "source": [
        "def getTransformationMatrix(dh_dict):\n",
        "    theta = dh_dict['theta']\n",
        "    d = dh_dict['d']\n",
        "    alpha = dh_dict['alpha']\n",
        "    a = dh_dict['a']\n",
        "\n",
        "    ## decouple value assignments for readability\n",
        "    T = zeros(4,4)\n",
        "\n",
        "    T[0,0] = cos(theta)\n",
        "    T[0,1] = -sin(theta) * cos(alpha)\n",
        "    T[0,2] = sin(theta) * sin(alpha)\n",
        "    T[0,3] = a * cos(theta)\n",
        "\n",
        "    T[1,0] = sin(theta)\n",
        "    T[1,1] = cos(theta) * cos(alpha)\n",
        "    T[1,2] = -cos(theta) * sin(alpha)\n",
        "    T[1,3] = a * sin(theta)\n",
        "\n",
        "    T[2,0] = 0\n",
        "    T[2,1] = sin(alpha)\n",
        "    T[2,2] = cos(alpha)\n",
        "    T[2,3] = d\n",
        "\n",
        "    T[3,3] = 1\n",
        "    return T\n",
        "\n",
        "def dhTransform(theta, d, alpha, a):\n",
        "    dh = getDHdict(theta=theta,d=d,alpha=alpha,a=a)\n",
        "    M = getTransformationMatrix(dh)\n",
        "    return M\n",
        "\n",
        "\n",
        "def dhTransformAll(theta_list, d_list, alpha_list, a_list):\n",
        "    matrix_list = []\n",
        "    for theta, d, alpha, a in zip(theta_list, d_list, alpha_list, a_list):\n",
        "        if type(theta) is int or type(theta) is float:\n",
        "            theta = m.radians(theta)\n",
        "        if type(alpha) is int or type(alpha) is float:\n",
        "            alpha = m.radians(alpha)\n",
        "        transformMatrix = dhTransform(theta=theta,d=d,alpha=alpha,a=a)\n",
        "        formattedMatrix = transformMatrix\n",
        "        for a in preorder_traversal(formattedMatrix):\n",
        "            if isinstance(a, Float):\n",
        "                formattedMatrix = formattedMatrix.subs(a, round(a, 2))\n",
        "        formattedMatrix = nsimplify(formattedMatrix,tolerance=1e-10,rational=True)\n",
        "        matrix_list.append(formattedMatrix)\n",
        "\n",
        "    for i, mat in enumerate(matrix_list):\n",
        "        if i == 0:\n",
        "            finalMatrix = mat\n",
        "        else:\n",
        "           finalMatrix = finalMatrix * mat\n",
        "    finalMatrix = nsimplify(finalMatrix,tolerance=1e-10,rational=True)\n",
        "    return finalMatrix, matrix_list"
      ]
    },
    {
      "cell_type": "markdown",
      "metadata": {
        "id": "pJGZHR_cTxpo"
      },
      "source": [
        "## Q1a"
      ]
    },
    {
      "cell_type": "code",
      "execution_count": 31,
      "metadata": {
        "colab": {
          "base_uri": "https://localhost:8080/"
        },
        "id": "MqCLpljbTxpp",
        "outputId": "d80fbb9b-5567-48a0-902e-80f26cc03673"
      },
      "outputs": [
        {
          "name": "stdout",
          "output_type": "stream",
          "text": [
            "************************T0************************\n",
            "⎡0.71  -0.71   0   7.1⎤\n",
            "⎢                     ⎥\n",
            "⎢0.71  0.71    0   7.1⎥\n",
            "⎢                     ⎥\n",
            "⎢ 0      0    1.0   0 ⎥\n",
            "⎢                     ⎥\n",
            "⎣ 0      0     0   1.0⎦\n",
            "\n",
            "\n",
            "====================================================================================================\n",
            "************************T1************************\n",
            "⎡0.5   -0.87   0   5.0⎤\n",
            "⎢                     ⎥\n",
            "⎢0.87   0.5    0   8.7⎥\n",
            "⎢                     ⎥\n",
            "⎢ 0      0    1.0   0 ⎥\n",
            "⎢                     ⎥\n",
            "⎣ 0      0     0   1.0⎦\n",
            "\n",
            "\n",
            "====================================================================================================\n",
            "************************T2************************\n",
            "⎡0.87  -0.5   0   8.7⎤\n",
            "⎢                    ⎥\n",
            "⎢0.5   0.87   0   5.0⎥\n",
            "⎢                    ⎥\n",
            "⎢ 0     0    1.0   0 ⎥\n",
            "⎢                    ⎥\n",
            "⎣ 0     0     0   1.0⎦\n",
            "\n",
            "\n",
            "====================================================================================================\n"
          ]
        }
      ],
      "source": [
        "theta_list = [45,60,30]\n",
        "d_list = [0,0,0]\n",
        "alpha_list = [0,0,0]\n",
        "a_list = [10,10,10]\n",
        "\n",
        "final_matrix, matrices  = dhTransformAll(theta_list, d_list, alpha_list, a_list)\n",
        "for i, mat in enumerate(matrices):\n",
        "    print(f\"T{i}\".center(50, '*'))\n",
        "    pprint(mat.evalf(2))\n",
        "    print('\\n')\n",
        "    print('='*100)"
      ]
    },
    {
      "cell_type": "code",
      "execution_count": 32,
      "metadata": {
        "colab": {
          "base_uri": "https://localhost:8080/",
          "height": 136
        },
        "id": "3zjUnSJ9Ujeg",
        "outputId": "faff0269-4785-4af9-bcec-d380f2677c26"
      },
      "outputs": [
        {
          "name": "stdout",
          "output_type": "stream",
          "text": [
            "Final Matrix:\n"
          ]
        },
        {
          "data": {
            "text/latex": [
              "$\\displaystyle \\left[\\begin{matrix}-0.71 & -0.71 & 0 & -2.7\\\\0.71 & -0.71 & 0 & 24.0\\\\0 & 0 & 1.0 & 0\\\\0 & 0 & 0 & 1.0\\end{matrix}\\right]$"
            ],
            "text/plain": [
              "Matrix([\n",
              "[-0.71, -0.71,   0, -2.7],\n",
              "[ 0.71, -0.71,   0, 24.0],\n",
              "[    0,     0, 1.0,    0],\n",
              "[    0,     0,   0,  1.0]])"
            ]
          },
          "execution_count": 32,
          "metadata": {},
          "output_type": "execute_result"
        }
      ],
      "source": [
        "print(\"Final Matrix:\")\n",
        "final_matrix.evalf(2)"
      ]
    },
    {
      "cell_type": "markdown",
      "metadata": {
        "id": "PMyZ4vU4Txpq"
      },
      "source": [
        "## Q1b"
      ]
    },
    {
      "cell_type": "code",
      "execution_count": 34,
      "metadata": {
        "colab": {
          "base_uri": "https://localhost:8080/"
        },
        "id": "TGKxdMLRTxpq",
        "outputId": "a939efd9-e69e-45b9-8525-4640af588f99"
      },
      "outputs": [
        {
          "name": "stdout",
          "output_type": "stream",
          "text": [
            "************************T0************************\n",
            "⎡0.71   0    -0.71  7.1⎤\n",
            "⎢                      ⎥\n",
            "⎢0.71   0    0.71   7.1⎥\n",
            "⎢                      ⎥\n",
            "⎢ 0    -1.0    0     0 ⎥\n",
            "⎢                      ⎥\n",
            "⎣ 0     0      0    1.0⎦\n",
            "\n",
            "\n",
            "====================================================================================================\n",
            "************************T1************************\n",
            "⎡1.0   0    0     0 ⎤\n",
            "⎢                   ⎥\n",
            "⎢ 0    0   -1.0   0 ⎥\n",
            "⎢                   ⎥\n",
            "⎢ 0   1.0   0    5.0⎥\n",
            "⎢                   ⎥\n",
            "⎣ 0    0    0    1.0⎦\n",
            "\n",
            "\n",
            "====================================================================================================\n",
            "************************T2************************\n",
            "⎡0.5   -0.87   0   5.0⎤\n",
            "⎢                     ⎥\n",
            "⎢0.87   0.5    0   8.7⎥\n",
            "⎢                     ⎥\n",
            "⎢ 0      0    1.0   0 ⎥\n",
            "⎢                     ⎥\n",
            "⎣ 0      0     0   1.0⎦\n",
            "\n",
            "\n",
            "====================================================================================================\n"
          ]
        }
      ],
      "source": [
        "theta_list = [45,0,60]\n",
        "d_list = [0,5,0]\n",
        "alpha_list = [-90,90,0]\n",
        "a_list = [10,0,10]\n",
        "\n",
        "final_matrix, matrices = dhTransformAll(theta_list, d_list, alpha_list, a_list)\n",
        "for i, mat in enumerate(matrices):\n",
        "    print(f\"T{i}\".center(50, '*'))\n",
        "    pprint(mat.evalf(2))\n",
        "    print('\\n')\n",
        "    print('='*100)"
      ]
    },
    {
      "cell_type": "code",
      "execution_count": 35,
      "metadata": {
        "colab": {
          "base_uri": "https://localhost:8080/",
          "height": 138
        },
        "id": "j89CtZ6sUhaP",
        "outputId": "d639ef75-6f60-47d6-dae2-29e07220b01a"
      },
      "outputs": [
        {
          "name": "stdout",
          "output_type": "stream",
          "text": [
            "Final Matrix:\n"
          ]
        },
        {
          "data": {
            "text/latex": [
              "$\\displaystyle \\left[\\begin{matrix}-0.26 & -0.97 & 0 & 0.92\\\\0.97 & -0.26 & 0 & 20.0\\\\0 & 0 & 1.0 & 0\\\\0 & 0 & 0 & 1.0\\end{matrix}\\right]$"
            ],
            "text/plain": [
              "Matrix([\n",
              "[-0.26, -0.97,   0, 0.92],\n",
              "[ 0.97, -0.26,   0, 20.0],\n",
              "[    0,     0, 1.0,    0],\n",
              "[    0,     0,   0,  1.0]])"
            ]
          },
          "execution_count": 35,
          "metadata": {},
          "output_type": "execute_result"
        }
      ],
      "source": [
        "print(\"Final Matrix:\")\n",
        "final_matrix.evalf(2)"
      ]
    },
    {
      "cell_type": "markdown",
      "metadata": {
        "id": "tqiC717OTxpr"
      },
      "source": [
        "## Q2"
      ]
    },
    {
      "cell_type": "code",
      "execution_count": 37,
      "metadata": {
        "colab": {
          "base_uri": "https://localhost:8080/"
        },
        "id": "AJj7_d-1Txpr",
        "outputId": "47e0bd8a-6f99-49cf-d3f4-f9a4324add06"
      },
      "outputs": [
        {
          "name": "stdout",
          "output_type": "stream",
          "text": [
            "************************T0************************\n",
            "⎡cos(θ₁)  -sin(θ₁)   0    0 ⎤\n",
            "⎢                           ⎥\n",
            "⎢sin(θ₁)  cos(θ₁)    0    0 ⎥\n",
            "⎢                           ⎥\n",
            "⎢   0        0      1.0  d₁ ⎥\n",
            "⎢                           ⎥\n",
            "⎣   0        0       0   1.0⎦\n",
            "\n",
            "\n",
            "====================================================================================================\n",
            "************************T1************************\n",
            "⎡1.0   0     0    0 ⎤\n",
            "⎢                   ⎥\n",
            "⎢ 0    0    1.0   0 ⎥\n",
            "⎢                   ⎥\n",
            "⎢ 0   -1.0   0   d₂ ⎥\n",
            "⎢                   ⎥\n",
            "⎣ 0    0     0   1.0⎦\n",
            "\n",
            "\n",
            "====================================================================================================\n",
            "************************T2************************\n",
            "⎡1.0   0    0    0 ⎤\n",
            "⎢                  ⎥\n",
            "⎢ 0   1.0   0    0 ⎥\n",
            "⎢                  ⎥\n",
            "⎢ 0    0   1.0  d₃ ⎥\n",
            "⎢                  ⎥\n",
            "⎣ 0    0    0   1.0⎦\n",
            "\n",
            "\n",
            "====================================================================================================\n"
          ]
        }
      ],
      "source": [
        "theta1, d1, d2, d3 = symbols('theta1 d1 d2 d3')\n",
        "\n",
        "theta_list = [theta1,0,0]\n",
        "d_list = [d1,d2,d3]\n",
        "alpha_list = [0,-90,0]\n",
        "a_list = [0,0,0]\n",
        "\n",
        "final_matrix, matrices = dhTransformAll(theta_list, d_list, alpha_list, a_list)\n",
        "for i, mat in enumerate(matrices):\n",
        "    print(f\"T{i}\".center(50, '*'))\n",
        "    pprint(mat.evalf(2))\n",
        "    print('\\n')\n",
        "    print('='*100)"
      ]
    },
    {
      "cell_type": "code",
      "execution_count": 38,
      "metadata": {},
      "outputs": [
        {
          "data": {
            "text/latex": [
              "$\\displaystyle \\left[\\begin{matrix}\\cos{\\left(\\theta_{1} \\right)} & 0 & - \\sin{\\left(\\theta_{1} \\right)} & - d_{3} \\sin{\\left(\\theta_{1} \\right)}\\\\\\sin{\\left(\\theta_{1} \\right)} & 0 & \\cos{\\left(\\theta_{1} \\right)} & d_{3} \\cos{\\left(\\theta_{1} \\right)}\\\\0 & -1.0 & 0 & d_{1} + d_{2}\\\\0 & 0 & 0 & 1.0\\end{matrix}\\right]$"
            ],
            "text/plain": [
              "Matrix([\n",
              "[cos(theta1),    0, -sin(theta1), -d3*sin(theta1)],\n",
              "[sin(theta1),    0,  cos(theta1),  d3*cos(theta1)],\n",
              "[          0, -1.0,            0,         d1 + d2],\n",
              "[          0,    0,            0,             1.0]])"
            ]
          },
          "execution_count": 38,
          "metadata": {},
          "output_type": "execute_result"
        }
      ],
      "source": [
        "final_matrix.evalf(2)"
      ]
    },
    {
      "cell_type": "markdown",
      "metadata": {
        "id": "GkphfTK6Txpr"
      },
      "source": [
        "## Q3"
      ]
    },
    {
      "cell_type": "code",
      "execution_count": 39,
      "metadata": {
        "colab": {
          "base_uri": "https://localhost:8080/"
        },
        "id": "JvLxIYPnTxpr",
        "outputId": "ebbcc373-06d5-4b41-f1bc-548568d2bddc"
      },
      "outputs": [
        {
          "name": "stdout",
          "output_type": "stream",
          "text": [
            "************************T0************************\n",
            "⎡cos(θ₁)   0    -sin(θ₁)   0 ⎤\n",
            "⎢                            ⎥\n",
            "⎢sin(θ₁)   0    cos(θ₁)    0 ⎥\n",
            "⎢                            ⎥\n",
            "⎢   0     -1.0     0      d₁ ⎥\n",
            "⎢                            ⎥\n",
            "⎣   0      0       0      1.0⎦\n",
            "\n",
            "\n",
            "====================================================================================================\n",
            "************************T1************************\n",
            "⎡cos(θ₂)   0   sin(θ₂)    0 ⎤\n",
            "⎢                           ⎥\n",
            "⎢sin(θ₂)   0   -cos(θ₂)   0 ⎥\n",
            "⎢                           ⎥\n",
            "⎢   0     1.0     0      d₂ ⎥\n",
            "⎢                           ⎥\n",
            "⎣   0      0      0      1.0⎦\n",
            "\n",
            "\n",
            "====================================================================================================\n",
            "************************T2************************\n",
            "⎡1.0   0    0    0 ⎤\n",
            "⎢                  ⎥\n",
            "⎢ 0   1.0   0    0 ⎥\n",
            "⎢                  ⎥\n",
            "⎢ 0    0   1.0  d₃ ⎥\n",
            "⎢                  ⎥\n",
            "⎣ 0    0    0   1.0⎦\n",
            "\n",
            "\n",
            "====================================================================================================\n",
            "************************T3************************\n",
            "⎡cos(θ₄)   0    -sin(θ₄)   0 ⎤\n",
            "⎢                            ⎥\n",
            "⎢sin(θ₄)   0    cos(θ₄)    0 ⎥\n",
            "⎢                            ⎥\n",
            "⎢   0     -1.0     0       0 ⎥\n",
            "⎢                            ⎥\n",
            "⎣   0      0       0      1.0⎦\n",
            "\n",
            "\n",
            "====================================================================================================\n",
            "************************T4************************\n",
            "⎡cos(θ₅)   0   sin(θ₅)    0 ⎤\n",
            "⎢                           ⎥\n",
            "⎢sin(θ₅)   0   -cos(θ₅)   0 ⎥\n",
            "⎢                           ⎥\n",
            "⎢   0     1.0     0       0 ⎥\n",
            "⎢                           ⎥\n",
            "⎣   0      0      0      1.0⎦\n",
            "\n",
            "\n",
            "====================================================================================================\n",
            "************************T5************************\n",
            "⎡cos(θ₆)  -sin(θ₆)   0    0 ⎤\n",
            "⎢                           ⎥\n",
            "⎢sin(θ₆)  cos(θ₆)    0    0 ⎥\n",
            "⎢                           ⎥\n",
            "⎢   0        0      1.0  d₄ ⎥\n",
            "⎢                           ⎥\n",
            "⎣   0        0       0   1.0⎦\n",
            "\n",
            "\n",
            "====================================================================================================\n"
          ]
        }
      ],
      "source": [
        "theta1, theta2, theta3, theta4, theta5, theta6 = symbols('theta1 theta2 theta3 theta4 theta5 theta6')\n",
        "d1, d2, d3, d4 = symbols('d1 d2 d3 d4')\n",
        "\n",
        "theta_list = [theta1, theta2, 0, theta4, theta5, theta6]\n",
        "d_list = [d1,d2,d3,0,0,d4]\n",
        "alpha_list = [-90,90,0,-90,90,0]\n",
        "a_list = [0,0,0,0,0,0]\n",
        "final_matrix, matrices = dhTransformAll(theta_list, d_list, alpha_list, a_list)\n",
        "for i, mat in enumerate(matrices):\n",
        "    print(f\"T{i}\".center(50, '*'))\n",
        "    pprint(mat.evalf(2))\n",
        "    print('\\n')\n",
        "    print('='*100)"
      ]
    },
    {
      "cell_type": "code",
      "execution_count": 70,
      "metadata": {},
      "outputs": [
        {
          "data": {
            "text/latex": [
              "$\\displaystyle 1.0$"
            ],
            "text/plain": [
              "1.0"
            ]
          },
          "execution_count": 70,
          "metadata": {},
          "output_type": "execute_result"
        }
      ],
      "source": [
        "eval_mat = final_matrix.evalf(2)\n",
        "# for row in range(4):\n",
        "    # for col in range(4):\n",
        "eval_mat[3,3]"
      ]
    },
    {
      "cell_type": "markdown",
      "metadata": {
        "id": "1V85UulWTxpt"
      },
      "source": [
        "## Q4"
      ]
    },
    {
      "cell_type": "code",
      "execution_count": 72,
      "metadata": {
        "colab": {
          "base_uri": "https://localhost:8080/"
        },
        "id": "r3T_SnOTTxpt",
        "outputId": "ba474123-3b38-4c99-a49a-6eac059fb0bb"
      },
      "outputs": [
        {
          "name": "stdout",
          "output_type": "stream",
          "text": [
            "************************T0************************\n",
            "⎡cos(θ₁)   0    -sin(θ₁)   0 ⎤\n",
            "⎢                            ⎥\n",
            "⎢sin(θ₁)   0    cos(θ₁)    0 ⎥\n",
            "⎢                            ⎥\n",
            "⎢   0     -1.0     0      d₁ ⎥\n",
            "⎢                            ⎥\n",
            "⎣   0      0       0      1.0⎦\n",
            "\n",
            "\n",
            "====================================================================================================\n",
            "************************T1************************\n",
            "⎡cos(θ₂)  -sin(θ₂)   0   R₂⋅cos(θ₂)⎤\n",
            "⎢                                  ⎥\n",
            "⎢sin(θ₂)  cos(θ₂)    0   R₂⋅sin(θ₂)⎥\n",
            "⎢                                  ⎥\n",
            "⎢   0        0      1.0      0     ⎥\n",
            "⎢                                  ⎥\n",
            "⎣   0        0       0      1.0    ⎦\n",
            "\n",
            "\n",
            "====================================================================================================\n",
            "************************T2************************\n",
            "⎡cos(θ₃)  -sin(θ₃)   0   R₃⋅cos(θ₃)⎤\n",
            "⎢                                  ⎥\n",
            "⎢sin(θ₃)  cos(θ₃)    0   R₃⋅sin(θ₃)⎥\n",
            "⎢                                  ⎥\n",
            "⎢   0        0      1.0      0     ⎥\n",
            "⎢                                  ⎥\n",
            "⎣   0        0       0      1.0    ⎦\n",
            "\n",
            "\n",
            "====================================================================================================\n"
          ]
        }
      ],
      "source": [
        "theta1, theta2, theta3= symbols('theta1 theta2 theta3')\n",
        "d1 = symbols('d1')\n",
        "r2, r3 = symbols('R2 R3')\n",
        "\n",
        "theta_list = [theta1, theta2, theta3]\n",
        "d_list = [d1,0,0]\n",
        "alpha_list = [-90,0,0]\n",
        "a_list = [0,r2,r3]\n",
        "final_matrix, matrices = dhTransformAll(theta_list, d_list, alpha_list, a_list)\n",
        "for i, mat in enumerate(matrices):\n",
        "    print(f\"T{i}\".center(50, '*'))\n",
        "    pprint(mat.evalf(2))\n",
        "    print('\\n')\n",
        "    print('='*100)"
      ]
    },
    {
      "cell_type": "code",
      "execution_count": 74,
      "metadata": {
        "colab": {
          "base_uri": "https://localhost:8080/",
          "height": 136
        },
        "id": "tVjT17g9UqrB",
        "outputId": "8c3f4879-434c-4074-fc0a-5bfdf5f988c4"
      },
      "outputs": [
        {
          "name": "stdout",
          "output_type": "stream",
          "text": [
            "Final Matrix:\n"
          ]
        },
        {
          "data": {
            "text/latex": [
              "$\\displaystyle \\left[\\begin{matrix}- \\sin{\\left(\\theta_{2} \\right)} \\sin{\\left(\\theta_{3} \\right)} \\cos{\\left(\\theta_{1} \\right)} + \\cos{\\left(\\theta_{1} \\right)} \\cos{\\left(\\theta_{2} \\right)} \\cos{\\left(\\theta_{3} \\right)} & - \\sin{\\left(\\theta_{2} \\right)} \\cos{\\left(\\theta_{1} \\right)} \\cos{\\left(\\theta_{3} \\right)} - \\sin{\\left(\\theta_{3} \\right)} \\cos{\\left(\\theta_{1} \\right)} \\cos{\\left(\\theta_{2} \\right)} & - \\sin{\\left(\\theta_{1} \\right)} & R_{2} \\cos{\\left(\\theta_{1} \\right)} \\cos{\\left(\\theta_{2} \\right)} - R_{3} \\sin{\\left(\\theta_{2} \\right)} \\sin{\\left(\\theta_{3} \\right)} \\cos{\\left(\\theta_{1} \\right)} + R_{3} \\cos{\\left(\\theta_{1} \\right)} \\cos{\\left(\\theta_{2} \\right)} \\cos{\\left(\\theta_{3} \\right)}\\\\- \\sin{\\left(\\theta_{1} \\right)} \\sin{\\left(\\theta_{2} \\right)} \\sin{\\left(\\theta_{3} \\right)} + \\sin{\\left(\\theta_{1} \\right)} \\cos{\\left(\\theta_{2} \\right)} \\cos{\\left(\\theta_{3} \\right)} & - \\sin{\\left(\\theta_{1} \\right)} \\sin{\\left(\\theta_{2} \\right)} \\cos{\\left(\\theta_{3} \\right)} - \\sin{\\left(\\theta_{1} \\right)} \\sin{\\left(\\theta_{3} \\right)} \\cos{\\left(\\theta_{2} \\right)} & \\cos{\\left(\\theta_{1} \\right)} & R_{2} \\sin{\\left(\\theta_{1} \\right)} \\cos{\\left(\\theta_{2} \\right)} - R_{3} \\sin{\\left(\\theta_{1} \\right)} \\sin{\\left(\\theta_{2} \\right)} \\sin{\\left(\\theta_{3} \\right)} + R_{3} \\sin{\\left(\\theta_{1} \\right)} \\cos{\\left(\\theta_{2} \\right)} \\cos{\\left(\\theta_{3} \\right)}\\\\- \\sin{\\left(\\theta_{2} \\right)} \\cos{\\left(\\theta_{3} \\right)} - \\sin{\\left(\\theta_{3} \\right)} \\cos{\\left(\\theta_{2} \\right)} & \\sin{\\left(\\theta_{2} \\right)} \\sin{\\left(\\theta_{3} \\right)} - \\cos{\\left(\\theta_{2} \\right)} \\cos{\\left(\\theta_{3} \\right)} & 0 & - R_{2} \\sin{\\left(\\theta_{2} \\right)} - R_{3} \\sin{\\left(\\theta_{2} \\right)} \\cos{\\left(\\theta_{3} \\right)} - R_{3} \\sin{\\left(\\theta_{3} \\right)} \\cos{\\left(\\theta_{2} \\right)} + d_{1}\\\\0 & 0 & 0 & 1.0\\end{matrix}\\right]$"
            ],
            "text/plain": [
              "Matrix([\n",
              "[-sin(theta2)*sin(theta3)*cos(theta1) + cos(theta1)*cos(theta2)*cos(theta3), -sin(theta2)*cos(theta1)*cos(theta3) - sin(theta3)*cos(theta1)*cos(theta2), -sin(theta1), R2*cos(theta1)*cos(theta2) - R3*sin(theta2)*sin(theta3)*cos(theta1) + R3*cos(theta1)*cos(theta2)*cos(theta3)],\n",
              "[-sin(theta1)*sin(theta2)*sin(theta3) + sin(theta1)*cos(theta2)*cos(theta3), -sin(theta1)*sin(theta2)*cos(theta3) - sin(theta1)*sin(theta3)*cos(theta2),  cos(theta1), R2*sin(theta1)*cos(theta2) - R3*sin(theta1)*sin(theta2)*sin(theta3) + R3*sin(theta1)*cos(theta2)*cos(theta3)],\n",
              "[                        -sin(theta2)*cos(theta3) - sin(theta3)*cos(theta2),                          sin(theta2)*sin(theta3) - cos(theta2)*cos(theta3),            0,                               -R2*sin(theta2) - R3*sin(theta2)*cos(theta3) - R3*sin(theta3)*cos(theta2) + d1],\n",
              "[                                                                         0,                                                                          0,            0,                                                                                                          1.0]])"
            ]
          },
          "execution_count": 74,
          "metadata": {},
          "output_type": "execute_result"
        }
      ],
      "source": [
        "print(\"Final Matrix:\")\n",
        "final_matrix.evalf(2)"
      ]
    },
    {
      "cell_type": "markdown",
      "metadata": {},
      "source": [
        "## Q5"
      ]
    },
    {
      "cell_type": "code",
      "execution_count": 6,
      "metadata": {},
      "outputs": [
        {
          "name": "stdout",
          "output_type": "stream",
          "text": [
            "************************T0************************\n",
            "⎡cos(θ₁)  -sin(θ₁)   0    0 ⎤\n",
            "⎢                           ⎥\n",
            "⎢sin(θ₁)  cos(θ₁)    0    0 ⎥\n",
            "⎢                           ⎥\n",
            "⎢   0        0      1.0  d₁ ⎥\n",
            "⎢                           ⎥\n",
            "⎣   0        0       0   1.0⎦\n",
            "\n",
            "\n",
            "====================================================================================================\n",
            "************************T1************************\n",
            "⎡1.0   0     0    0 ⎤\n",
            "⎢                   ⎥\n",
            "⎢ 0    0    1.0   0 ⎥\n",
            "⎢                   ⎥\n",
            "⎢ 0   -1.0   0   d₂ ⎥\n",
            "⎢                   ⎥\n",
            "⎣ 0    0     0   1.0⎦\n",
            "\n",
            "\n",
            "====================================================================================================\n",
            "************************T2************************\n",
            "⎡1.0   0    0    0 ⎤\n",
            "⎢                  ⎥\n",
            "⎢ 0   1.0   0    0 ⎥\n",
            "⎢                  ⎥\n",
            "⎢ 0    0   1.0  d₃ ⎥\n",
            "⎢                  ⎥\n",
            "⎣ 0    0    0   1.0⎦\n",
            "\n",
            "\n",
            "====================================================================================================\n",
            "************************T3************************\n",
            "⎡cos(θ₄)   0   sin(θ₄)    0 ⎤\n",
            "⎢                           ⎥\n",
            "⎢sin(θ₄)   0   -cos(θ₄)   0 ⎥\n",
            "⎢                           ⎥\n",
            "⎢   0     1.0     0       0 ⎥\n",
            "⎢                           ⎥\n",
            "⎣   0      0      0      1.0⎦\n",
            "\n",
            "\n",
            "====================================================================================================\n",
            "************************T4************************\n",
            "⎡cos(θ₅)   0    -sin(θ₅)   0 ⎤\n",
            "⎢                            ⎥\n",
            "⎢sin(θ₅)   0    cos(θ₅)    0 ⎥\n",
            "⎢                            ⎥\n",
            "⎢   0     -1.0     0       0 ⎥\n",
            "⎢                            ⎥\n",
            "⎣   0      0       0      1.0⎦\n",
            "\n",
            "\n",
            "====================================================================================================\n",
            "************************T5************************\n",
            "⎡cos(θ₆)  -sin(θ₆)   0    0 ⎤\n",
            "⎢                           ⎥\n",
            "⎢sin(θ₆)  cos(θ₆)    0    0 ⎥\n",
            "⎢                           ⎥\n",
            "⎢   0        0      1.0   0 ⎥\n",
            "⎢                           ⎥\n",
            "⎣   0        0       0   1.0⎦\n",
            "\n",
            "\n",
            "====================================================================================================\n"
          ]
        }
      ],
      "source": [
        "theta1, theta2, theta3, theta4, theta5, theta6 = symbols('theta1 theta2 theta3 theta4 theta5 theta6')\n",
        "d1, d2, d3 = symbols('d1 d2 d3')\n",
        "\n",
        "theta_list = [theta1, 0, 0, theta4, theta5, theta6]\n",
        "d_list = [d1,d2,d3,0,0,0]\n",
        "alpha_list = [0,-90,0,90,-90,0]\n",
        "a_list = [0,0,0,0,0,0]\n",
        "final_matrix, matrices = dhTransformAll(theta_list, d_list, alpha_list, a_list)\n",
        "for i, mat in enumerate(matrices):\n",
        "    print(f\"T{i}\".center(50, '*'))\n",
        "    pprint(mat.evalf(2))\n",
        "    print('\\n')\n",
        "    print('='*100)"
      ]
    },
    {
      "cell_type": "code",
      "execution_count": 31,
      "metadata": {},
      "outputs": [
        {
          "name": "stdout",
          "output_type": "stream",
          "text": [
            "Final Matrix:  \n"
          ]
        },
        {
          "data": {
            "text/latex": [
              "$\\displaystyle 1.0$"
            ],
            "text/plain": [
              "1.0"
            ]
          },
          "execution_count": 31,
          "metadata": {},
          "output_type": "execute_result"
        }
      ],
      "source": [
        "\n",
        "print(f\"Final Matrix:  \")\n",
        "evalMatrix = final_matrix.evalf(2)\n",
        "\n",
        "evalMatrix[3,3]"
      ]
    }
  ],
  "metadata": {
    "colab": {
      "collapsed_sections": [],
      "name": "nb.ipynb",
      "provenance": [],
      "toc_visible": true
    },
    "interpreter": {
      "hash": "97ae724bfa85b9b34df7982b8bb8c7216f435b92902d749e4263f71162bea840"
    },
    "kernelspec": {
      "display_name": "Python 3.8.8 ('base')",
      "language": "python",
      "name": "python3"
    },
    "language_info": {
      "codemirror_mode": {
        "name": "ipython",
        "version": 3
      },
      "file_extension": ".py",
      "mimetype": "text/x-python",
      "name": "python",
      "nbconvert_exporter": "python",
      "pygments_lexer": "ipython3",
      "version": "3.8.8"
    },
    "orig_nbformat": 4
  },
  "nbformat": 4,
  "nbformat_minor": 0
}
